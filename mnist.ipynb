import numpy
import matplotlib.pyplot

data_file = open("/home/michael/Downloads/mnist.csv", "r")
data_list = data_file.readlines()
data_file.close()
#print(data_list)

all_values = data_list[0].split(',')
image_array = numpy.asfarray(all_values[1:]).reshape((28,28))
imgplot = matplotlib.pyplot.imshow(image_array, cmap='Greys',
                                   interpolation='None')
